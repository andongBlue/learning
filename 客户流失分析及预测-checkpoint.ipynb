{
 "cells": [
  {
   "cell_type": "code",
   "execution_count": 1,
   "metadata": {},
   "outputs": [],
   "source": [
    "import numpy as np\n",
    "import pandas as pd\n",
    "import matplotlib.pyplot as plt\n",
    "%matplotlib inline\n",
    "import warnings\n",
    "warnings.filterwarnings('ignore')\n"
   ]
  },
  {
   "cell_type": "code",
   "execution_count": 2,
   "metadata": {},
   "outputs": [
    {
     "data": {
      "text/html": [
       "<div>\n",
       "<style scoped>\n",
       "    .dataframe tbody tr th:only-of-type {\n",
       "        vertical-align: middle;\n",
       "    }\n",
       "\n",
       "    .dataframe tbody tr th {\n",
       "        vertical-align: top;\n",
       "    }\n",
       "\n",
       "    .dataframe thead th {\n",
       "        text-align: right;\n",
       "    }\n",
       "</style>\n",
       "<table border=\"1\" class=\"dataframe\">\n",
       "  <thead>\n",
       "    <tr style=\"text-align: right;\">\n",
       "      <th></th>\n",
       "      <th>State</th>\n",
       "      <th>Account Length</th>\n",
       "      <th>Area Code</th>\n",
       "      <th>Phone</th>\n",
       "      <th>Intl Plan</th>\n",
       "      <th>VMail Plan</th>\n",
       "      <th>VMail Message</th>\n",
       "      <th>Day Mins</th>\n",
       "      <th>Day Calls</th>\n",
       "      <th>Day Charge</th>\n",
       "      <th>...</th>\n",
       "      <th>Eve Calls</th>\n",
       "      <th>Eve Charge</th>\n",
       "      <th>Night Mins</th>\n",
       "      <th>Night Calls</th>\n",
       "      <th>Night Charge</th>\n",
       "      <th>Intl Mins</th>\n",
       "      <th>Intl Calls</th>\n",
       "      <th>Intl Charge</th>\n",
       "      <th>CustServ Calls</th>\n",
       "      <th>Churn</th>\n",
       "    </tr>\n",
       "  </thead>\n",
       "  <tbody>\n",
       "    <tr>\n",
       "      <th>0</th>\n",
       "      <td>KS</td>\n",
       "      <td>128</td>\n",
       "      <td>415</td>\n",
       "      <td>382-4657</td>\n",
       "      <td>no</td>\n",
       "      <td>yes</td>\n",
       "      <td>25</td>\n",
       "      <td>265.1</td>\n",
       "      <td>110</td>\n",
       "      <td>45.07</td>\n",
       "      <td>...</td>\n",
       "      <td>99</td>\n",
       "      <td>16.78</td>\n",
       "      <td>244.7</td>\n",
       "      <td>91</td>\n",
       "      <td>11.01</td>\n",
       "      <td>10.0</td>\n",
       "      <td>3</td>\n",
       "      <td>2.70</td>\n",
       "      <td>1</td>\n",
       "      <td>False.</td>\n",
       "    </tr>\n",
       "    <tr>\n",
       "      <th>1</th>\n",
       "      <td>OH</td>\n",
       "      <td>107</td>\n",
       "      <td>415</td>\n",
       "      <td>371-7191</td>\n",
       "      <td>no</td>\n",
       "      <td>yes</td>\n",
       "      <td>26</td>\n",
       "      <td>161.6</td>\n",
       "      <td>123</td>\n",
       "      <td>27.47</td>\n",
       "      <td>...</td>\n",
       "      <td>103</td>\n",
       "      <td>16.62</td>\n",
       "      <td>254.4</td>\n",
       "      <td>103</td>\n",
       "      <td>11.45</td>\n",
       "      <td>13.7</td>\n",
       "      <td>3</td>\n",
       "      <td>3.70</td>\n",
       "      <td>1</td>\n",
       "      <td>False.</td>\n",
       "    </tr>\n",
       "    <tr>\n",
       "      <th>2</th>\n",
       "      <td>NJ</td>\n",
       "      <td>137</td>\n",
       "      <td>415</td>\n",
       "      <td>358-1921</td>\n",
       "      <td>no</td>\n",
       "      <td>no</td>\n",
       "      <td>0</td>\n",
       "      <td>243.4</td>\n",
       "      <td>114</td>\n",
       "      <td>41.38</td>\n",
       "      <td>...</td>\n",
       "      <td>110</td>\n",
       "      <td>10.30</td>\n",
       "      <td>162.6</td>\n",
       "      <td>104</td>\n",
       "      <td>7.32</td>\n",
       "      <td>12.2</td>\n",
       "      <td>5</td>\n",
       "      <td>3.29</td>\n",
       "      <td>0</td>\n",
       "      <td>False.</td>\n",
       "    </tr>\n",
       "    <tr>\n",
       "      <th>3</th>\n",
       "      <td>OH</td>\n",
       "      <td>84</td>\n",
       "      <td>408</td>\n",
       "      <td>375-9999</td>\n",
       "      <td>yes</td>\n",
       "      <td>no</td>\n",
       "      <td>0</td>\n",
       "      <td>299.4</td>\n",
       "      <td>71</td>\n",
       "      <td>50.90</td>\n",
       "      <td>...</td>\n",
       "      <td>88</td>\n",
       "      <td>5.26</td>\n",
       "      <td>196.9</td>\n",
       "      <td>89</td>\n",
       "      <td>8.86</td>\n",
       "      <td>6.6</td>\n",
       "      <td>7</td>\n",
       "      <td>1.78</td>\n",
       "      <td>2</td>\n",
       "      <td>False.</td>\n",
       "    </tr>\n",
       "    <tr>\n",
       "      <th>4</th>\n",
       "      <td>OK</td>\n",
       "      <td>75</td>\n",
       "      <td>415</td>\n",
       "      <td>330-6626</td>\n",
       "      <td>yes</td>\n",
       "      <td>no</td>\n",
       "      <td>0</td>\n",
       "      <td>166.7</td>\n",
       "      <td>113</td>\n",
       "      <td>28.34</td>\n",
       "      <td>...</td>\n",
       "      <td>122</td>\n",
       "      <td>12.61</td>\n",
       "      <td>186.9</td>\n",
       "      <td>121</td>\n",
       "      <td>8.41</td>\n",
       "      <td>10.1</td>\n",
       "      <td>3</td>\n",
       "      <td>2.73</td>\n",
       "      <td>3</td>\n",
       "      <td>False.</td>\n",
       "    </tr>\n",
       "  </tbody>\n",
       "</table>\n",
       "<p>5 rows × 21 columns</p>\n",
       "</div>"
      ],
      "text/plain": [
       "  State  Account Length  Area Code     Phone Intl Plan VMail Plan  \\\n",
       "0    KS             128        415  382-4657        no        yes   \n",
       "1    OH             107        415  371-7191        no        yes   \n",
       "2    NJ             137        415  358-1921        no         no   \n",
       "3    OH              84        408  375-9999       yes         no   \n",
       "4    OK              75        415  330-6626       yes         no   \n",
       "\n",
       "   VMail Message  Day Mins  Day Calls  Day Charge   ...    Eve Calls  \\\n",
       "0             25     265.1        110       45.07   ...           99   \n",
       "1             26     161.6        123       27.47   ...          103   \n",
       "2              0     243.4        114       41.38   ...          110   \n",
       "3              0     299.4         71       50.90   ...           88   \n",
       "4              0     166.7        113       28.34   ...          122   \n",
       "\n",
       "   Eve Charge  Night Mins  Night Calls  Night Charge  Intl Mins  Intl Calls  \\\n",
       "0       16.78       244.7           91         11.01       10.0           3   \n",
       "1       16.62       254.4          103         11.45       13.7           3   \n",
       "2       10.30       162.6          104          7.32       12.2           5   \n",
       "3        5.26       196.9           89          8.86        6.6           7   \n",
       "4       12.61       186.9          121          8.41       10.1           3   \n",
       "\n",
       "   Intl Charge  CustServ Calls   Churn  \n",
       "0         2.70               1  False.  \n",
       "1         3.70               1  False.  \n",
       "2         3.29               0  False.  \n",
       "3         1.78               2  False.  \n",
       "4         2.73               3  False.  \n",
       "\n",
       "[5 rows x 21 columns]"
      ]
     },
     "execution_count": 2,
     "metadata": {},
     "output_type": "execute_result"
    }
   ],
   "source": [
    "df=pd.read_csv(r'C:/Users/60547/Documents/py/python_lianxi/datasets/custom_loss/churn.csv')\n",
    "df.head()"
   ]
  },
  {
   "cell_type": "code",
   "execution_count": 3,
   "metadata": {},
   "outputs": [
    {
     "data": {
      "text/html": [
       "<div>\n",
       "<style scoped>\n",
       "    .dataframe tbody tr th:only-of-type {\n",
       "        vertical-align: middle;\n",
       "    }\n",
       "\n",
       "    .dataframe tbody tr th {\n",
       "        vertical-align: top;\n",
       "    }\n",
       "\n",
       "    .dataframe thead th {\n",
       "        text-align: right;\n",
       "    }\n",
       "</style>\n",
       "<table border=\"1\" class=\"dataframe\">\n",
       "  <thead>\n",
       "    <tr style=\"text-align: right;\">\n",
       "      <th></th>\n",
       "      <th>Intl Plan</th>\n",
       "      <th>VMail Plan</th>\n",
       "      <th>VMail Message</th>\n",
       "      <th>Day Mins</th>\n",
       "      <th>Day Calls</th>\n",
       "      <th>Day Charge</th>\n",
       "      <th>Eve Mins</th>\n",
       "      <th>Eve Calls</th>\n",
       "      <th>Eve Charge</th>\n",
       "      <th>Night Mins</th>\n",
       "      <th>Night Calls</th>\n",
       "      <th>Night Charge</th>\n",
       "      <th>Intl Mins</th>\n",
       "      <th>Intl Calls</th>\n",
       "      <th>Intl Charge</th>\n",
       "      <th>CustServ Calls</th>\n",
       "      <th>Churn</th>\n",
       "    </tr>\n",
       "  </thead>\n",
       "  <tbody>\n",
       "    <tr>\n",
       "      <th>119</th>\n",
       "      <td>0</td>\n",
       "      <td>0</td>\n",
       "      <td>0</td>\n",
       "      <td>239.8</td>\n",
       "      <td>125</td>\n",
       "      <td>40.77</td>\n",
       "      <td>214.8</td>\n",
       "      <td>111</td>\n",
       "      <td>18.26</td>\n",
       "      <td>143.3</td>\n",
       "      <td>81</td>\n",
       "      <td>6.45</td>\n",
       "      <td>8.7</td>\n",
       "      <td>5</td>\n",
       "      <td>2.35</td>\n",
       "      <td>2</td>\n",
       "      <td>0</td>\n",
       "    </tr>\n",
       "    <tr>\n",
       "      <th>146</th>\n",
       "      <td>0</td>\n",
       "      <td>0</td>\n",
       "      <td>0</td>\n",
       "      <td>146.7</td>\n",
       "      <td>91</td>\n",
       "      <td>24.94</td>\n",
       "      <td>203.5</td>\n",
       "      <td>78</td>\n",
       "      <td>17.30</td>\n",
       "      <td>203.4</td>\n",
       "      <td>110</td>\n",
       "      <td>9.15</td>\n",
       "      <td>13.7</td>\n",
       "      <td>3</td>\n",
       "      <td>3.70</td>\n",
       "      <td>1</td>\n",
       "      <td>0</td>\n",
       "    </tr>\n",
       "    <tr>\n",
       "      <th>1461</th>\n",
       "      <td>0</td>\n",
       "      <td>0</td>\n",
       "      <td>0</td>\n",
       "      <td>39.5</td>\n",
       "      <td>78</td>\n",
       "      <td>6.72</td>\n",
       "      <td>264.3</td>\n",
       "      <td>106</td>\n",
       "      <td>22.47</td>\n",
       "      <td>185.8</td>\n",
       "      <td>90</td>\n",
       "      <td>8.36</td>\n",
       "      <td>10.0</td>\n",
       "      <td>6</td>\n",
       "      <td>2.70</td>\n",
       "      <td>0</td>\n",
       "      <td>0</td>\n",
       "    </tr>\n",
       "    <tr>\n",
       "      <th>969</th>\n",
       "      <td>0</td>\n",
       "      <td>0</td>\n",
       "      <td>0</td>\n",
       "      <td>190.2</td>\n",
       "      <td>68</td>\n",
       "      <td>32.33</td>\n",
       "      <td>262.2</td>\n",
       "      <td>64</td>\n",
       "      <td>22.29</td>\n",
       "      <td>130.0</td>\n",
       "      <td>92</td>\n",
       "      <td>5.85</td>\n",
       "      <td>8.8</td>\n",
       "      <td>4</td>\n",
       "      <td>2.38</td>\n",
       "      <td>0</td>\n",
       "      <td>0</td>\n",
       "    </tr>\n",
       "    <tr>\n",
       "      <th>317</th>\n",
       "      <td>0</td>\n",
       "      <td>1</td>\n",
       "      <td>29</td>\n",
       "      <td>117.8</td>\n",
       "      <td>66</td>\n",
       "      <td>20.03</td>\n",
       "      <td>256.8</td>\n",
       "      <td>114</td>\n",
       "      <td>21.83</td>\n",
       "      <td>147.6</td>\n",
       "      <td>76</td>\n",
       "      <td>6.64</td>\n",
       "      <td>7.6</td>\n",
       "      <td>3</td>\n",
       "      <td>2.05</td>\n",
       "      <td>3</td>\n",
       "      <td>0</td>\n",
       "    </tr>\n",
       "  </tbody>\n",
       "</table>\n",
       "</div>"
      ],
      "text/plain": [
       "      Intl Plan  VMail Plan  VMail Message  Day Mins  Day Calls  Day Charge  \\\n",
       "119           0           0              0     239.8        125       40.77   \n",
       "146           0           0              0     146.7         91       24.94   \n",
       "1461          0           0              0      39.5         78        6.72   \n",
       "969           0           0              0     190.2         68       32.33   \n",
       "317           0           1             29     117.8         66       20.03   \n",
       "\n",
       "      Eve Mins  Eve Calls  Eve Charge  Night Mins  Night Calls  Night Charge  \\\n",
       "119      214.8        111       18.26       143.3           81          6.45   \n",
       "146      203.5         78       17.30       203.4          110          9.15   \n",
       "1461     264.3        106       22.47       185.8           90          8.36   \n",
       "969      262.2         64       22.29       130.0           92          5.85   \n",
       "317      256.8        114       21.83       147.6           76          6.64   \n",
       "\n",
       "      Intl Mins  Intl Calls  Intl Charge  CustServ Calls  Churn  \n",
       "119         8.7           5         2.35               2      0  \n",
       "146        13.7           3         3.70               1      0  \n",
       "1461       10.0           6         2.70               0      0  \n",
       "969         8.8           4         2.38               0      0  \n",
       "317         7.6           3         2.05               3      0  "
      ]
     },
     "execution_count": 3,
     "metadata": {},
     "output_type": "execute_result"
    }
   ],
   "source": [
    "#数据处理\n",
    "churn_mapping={'False.':0,'True.':1}\n",
    "intplan_mapping={'yes':1,'no':0}\n",
    "vmailpan_mapping={'yes':1,'no':0}\n",
    "df['Intl Plan']=df['Intl Plan'].map(intplan_mapping)\n",
    "df['VMail Plan']=df['VMail Plan'].map(vmailpan_mapping)\n",
    "df['Churn']=df['Churn'].map(churn_mapping)\n",
    "\n",
    "#丢掉不用的数据\n",
    "df.drop(['Phone','Area Code','Account Length','State'],inplace=True,axis=1)\n",
    "df.sample(5)"
   ]
  },
  {
   "cell_type": "code",
   "execution_count": 4,
   "metadata": {
    "scrolled": true
   },
   "outputs": [
    {
     "name": "stdout",
     "output_type": "stream",
     "text": [
      "[[-0.32758048  1.6170861   1.23488274 ... -0.60119509 -0.0856905\n",
      "  -0.42793202]\n",
      " [-0.32758048  1.6170861   1.30794844 ... -0.60119509  1.2411686\n",
      "  -0.42793202]\n",
      " [-0.32758048 -0.61839626 -0.59175986 ...  0.21153386  0.69715637\n",
      "  -1.1882185 ]\n",
      " ...\n",
      " [-0.32758048 -0.61839626 -0.59175986 ...  0.61789834  1.3871231\n",
      "   0.33235445]\n",
      " [ 3.05268496 -0.61839626 -0.59175986 ...  2.24335625 -1.87695028\n",
      "   0.33235445]\n",
      " [-0.32758048  1.6170861   1.23488274 ... -0.19483061  1.2411686\n",
      "  -1.1882185 ]] (3333, 16)\n"
     ]
    },
    {
     "data": {
      "text/plain": [
       "483"
      ]
     },
     "execution_count": 4,
     "metadata": {},
     "output_type": "execute_result"
    }
   ],
   "source": [
    "#有的列的数据很大,有的很小,将其进行归一化/标准化(这里选择标准化)\n",
    "from sklearn.preprocessing import StandardScaler\n",
    "scaler=StandardScaler()\n",
    "x_train=df.drop('Churn',axis=1)\n",
    "y_train=df['Churn']\n",
    "x_train=scaler.fit_transform(x_train)\n",
    "print(x_train,x_train.shape)\n",
    "#查看标签值分布\n",
    "len(y_train[y_train==1])"
   ]
  },
  {
   "cell_type": "code",
   "execution_count": 5,
   "metadata": {},
   "outputs": [
    {
     "data": {
      "text/plain": [
       "<matplotlib.axes._subplots.AxesSubplot at 0x2c07adc2780>"
      ]
     },
     "execution_count": 5,
     "metadata": {},
     "output_type": "execute_result"
    },
    {
     "data": {
      "image/png": "[encoded data removed]",
      "text/plain": [
       "<Figure size 432x288 with 1 Axes>"
      ]
     },
     "metadata": {
      "needs_background": "light"
     },
     "output_type": "display_data"
    }
   ],
   "source": [
    "#将标签值2个类别的情况进行可视化\n",
    "y_train.value_counts().plot(kind='bar')\n",
    "#样本有些不均衡"
   ]
  },
  {
   "cell_type": "code",
   "execution_count": 6,
   "metadata": {},
   "outputs": [
    {
     "name": "stderr",
     "output_type": "stream",
     "text": [
      "C:\\Users\\60547\\Anaconda3\\lib\\site-packages\\sklearn\\cross_validation.py:41: DeprecationWarning: This module was deprecated in version 0.18 in favor of the model_selection module into which all the refactored classes and functions are moved. Also note that the interface of the new CV iterators are different from that of this module. This module will be removed in 0.20.\n",
      "  \"This module will be removed in 0.20.\", DeprecationWarning)\n"
     ]
    }
   ],
   "source": [
    "#选用何种算法未知,定义一个通用的返回predict值的算法\n",
    "from sklearn.cross_validation import KFold\n",
    "def get_predict(X,y,clf_class,**kwargs):\n",
    "    y_pred=y.copy()\n",
    "    kf=KFold(len(y),n_folds=10,shuffle=True)\n",
    "    for train_index,test_index in kf:\n",
    "        x_train=X[train_index]\n",
    "        y_train=y[train_index]\n",
    "        x_test=X[test_index]\n",
    "        clf=clf_class(**kwargs)\n",
    "        clf.fit(x_train,y_train)\n",
    "        y_pred[test_index]=clf.predict(x_test)\n",
    "    return y_pred    "
   ]
  },
  {
   "cell_type": "code",
   "execution_count": 7,
   "metadata": {},
   "outputs": [
    {
     "name": "stderr",
     "output_type": "stream",
     "text": [
      "C:\\Users\\60547\\Anaconda3\\lib\\site-packages\\sklearn\\ensemble\\weight_boosting.py:29: DeprecationWarning: numpy.core.umath_tests is an internal NumPy module and should not be imported. It will be removed in a future NumPy release.\n",
      "  from numpy.core.umath_tests import inner1d\n"
     ]
    }
   ],
   "source": [
    "from sklearn.ensemble import RandomForestClassifier as rfc\n",
    "from sklearn.linear_model import LogisticRegression as lr\n",
    "from sklearn.neighbors import KNeighborsClassifier as knn\n",
    "from sklearn.metrics import accuracy_score\n",
    "from sklearn.metrics import precision_score\n",
    "from sklearn.metrics import confusion_matrix"
   ]
  },
  {
   "cell_type": "code",
   "execution_count": 8,
   "metadata": {},
   "outputs": [
    {
     "name": "stdout",
     "output_type": "stream",
     "text": [
      "accuracy score of randomforest is:0.946\n",
      "accuracy score of logisticRegression is:0.862\n",
      "accuracy score of knn is:0.900\n"
     ]
    }
   ],
   "source": [
    "#先用accuracy score进行计算三个分类器的整体分类准确率\n",
    "print('accuracy score of randomforest is:%.3f'%accuracy_score(y_train,get_predict(x_train,y_train,rfc)))\n",
    "print('accuracy score of logisticRegression is:%.3f'%accuracy_score(y_train,get_predict(x_train,y_train,lr)))  \n",
    "print('accuracy score of knn is:%.3f'%accuracy_score(y_train,get_predict(x_train,y_train,knn)))   \n",
    "# print(help(KFold))"
   ]
  },
  {
   "cell_type": "code",
   "execution_count": 9,
   "metadata": {},
   "outputs": [
    {
     "name": "stdout",
     "output_type": "stream",
     "text": [
      "recall score of randomforest is:0.698\n",
      "recall score of logisticRegression is:0.215\n",
      "recall score of knn is:0.377\n"
     ]
    }
   ],
   "source": [
    "#总的分类准确率并不能完全反应我们关注的指标,更关心真正流失的客户有没有被找出来即查全率\n",
    "from sklearn.metrics import recall_score\n",
    "print('recall score of randomforest is:%.3f'%recall_score(y_train,get_predict(x_train,y_train,rfc),average='binary'))\n",
    "print('recall score of logisticRegression is:%.3f'%recall_score(y_train,get_predict(x_train,y_train,lr),average='binary'))  \n",
    "print('recall score of knn is:%.3f'%recall_score(y_train,get_predict(x_train,y_train,knn),average='binary'))  "
   ]
  },
  {
   "cell_type": "code",
   "execution_count": 10,
   "metadata": {},
   "outputs": [
    {
     "name": "stdout",
     "output_type": "stream",
     "text": [
      "precision score of randomforest is:0.921\n",
      "precision score of logisticRegression is:0.555\n",
      "precision score of knn is:0.858\n"
     ]
    }
   ],
   "source": [
    "#同时我们也关心1类别的被分类正确的概率，即查准率P\n",
    "from sklearn.metrics import recall_score\n",
    "print('precision score of randomforest is:%.3f'%precision_score(y_train,get_predict(x_train,y_train,rfc),average='binary'))\n",
    "print('precision score of logisticRegression is:%.3f'%precision_score(y_train,get_predict(x_train,y_train,lr),average='binary'))  \n",
    "print('precision score of knn is:%.3f'%precision_score(y_train,get_predict(x_train,y_train,knn),average='binary')) "
   ]
  },
  {
   "cell_type": "code",
   "execution_count": 11,
   "metadata": {},
   "outputs": [],
   "source": [
    "import itertools\n",
    "def plot_confusion_matrix(cm, classes,\n",
    "                          title='Confusion matrix',\n",
    "                          cmap=plt.cm.Blues):\n",
    "    \"\"\"\n",
    "    This function prints and plots the confusion matrix.\n",
    "    \"\"\"\n",
    "    plt.imshow(cm, interpolation='nearest', cmap=cmap)\n",
    "    plt.title(title)\n",
    "    plt.colorbar()\n",
    "    tick_marks = np.arange(len(classes))\n",
    "    plt.xticks(tick_marks, classes, rotation=0)\n",
    "    plt.yticks(tick_marks, classes)\n",
    "\n",
    "    thresh = cm.max() / 2.\n",
    "    for i, j in itertools.product(range(cm.shape[0]), range(cm.shape[1])):\n",
    "        plt.text(j, i, cm[i, j],\n",
    "                 horizontalalignment=\"center\",\n",
    "                 color=\"white\" if cm[i, j] > thresh else \"black\")\n",
    "\n",
    "    plt.tight_layout()\n",
    "    plt.ylabel('True label')\n",
    "    plt.xlabel('Predicted label')"
   ]
  },
  {
   "cell_type": "code",
   "execution_count": 12,
   "metadata": {},
   "outputs": [],
   "source": [
    "def get_predict_proba(X,y,clf_class,**kwargs):\n",
    "    p=np.zeros((len(y),2))\n",
    "    \n",
    "    kf=KFold(len(y),n_folds=10,shuffle=True)\n",
    "    for train_index,test_index in kf:\n",
    "        x_train=X[train_index]\n",
    "        y_train=y[train_index]\n",
    "        x_test=X[test_index]\n",
    "        clf=clf_class(**kwargs)\n",
    "        clf.fit(x_train,y_train)\n",
    "        p[test_index]=clf.predict_proba(x_test)\n",
    "      \n",
    "    return p"
   ]
  },
  {
   "cell_type": "code",
   "execution_count": 13,
   "metadata": {},
   "outputs": [],
   "source": [
    "#compute 混淆矩阵\n",
    "cnf_with_rfc=confusion_matrix(y_train,get_predict(x_train,y_train,rfc))\n",
    "cnf_with_lr=confusion_matrix(y_train,get_predict(x_train,y_train,lr))\n",
    "cnf_with_knn=confusion_matrix(y_train,get_predict(x_train,y_train,knn))\n",
    "np.set_printoptions(precision=2)\n",
    "classes_names=[0,1]"
   ]
  },
  {
   "cell_type": "code",
   "execution_count": 14,
   "metadata": {},
   "outputs": [
    {
     "data": {
      "text/plain": [
       "Text(0.5, 1.0, 'knn')"
      ]
     },
     "execution_count": 14,
     "metadata": {},
     "output_type": "execute_result"
    },
    {
     "data": {
      "image/png": "[encoded data removed]",
      "text/plain": [
       "<Figure size 1080x360 with 6 Axes>"
      ]
     },
     "metadata": {
      "needs_background": "light"
     },
     "output_type": "display_data"
    }
   ],
   "source": [
    "#将三个分类器的混淆矩阵进行可视化，随机森林的效果最好\n",
    "plt.figure(figsize=(15,5))\n",
    "\n",
    "plt.subplot(131)\n",
    "plot_confusion_matrix(cnf_with_rfc,classes_names)\n",
    "plt.title('rfc')\n",
    "\n",
    "plt.subplot(132)\n",
    "plot_confusion_matrix(cnf_with_lr,classes_names)\n",
    "plt.title('lr')\n",
    "\n",
    "plt.subplot(133)\n",
    "plot_confusion_matrix(cnf_with_knn,classes_names)\n",
    "plt.title('knn')"
   ]
  },
  {
   "cell_type": "code",
   "execution_count": 15,
   "metadata": {},
   "outputs": [],
   "source": [
    "def get_predict_proba(X,y,clf_class,**kwargs):\n",
    "    p=np.zeros((len(y),2))\n",
    "    \n",
    "    kf=KFold(len(y),n_folds=10,shuffle=True)\n",
    "    for train_index,test_index in kf:\n",
    "        x_train=X[train_index]\n",
    "        y_train=y[train_index]\n",
    "        x_test=X[test_index]\n",
    "        clf=clf_class(**kwargs)\n",
    "        clf.fit(x_train,y_train)\n",
    "        p[test_index]=clf.predict_proba(x_test)\n",
    "      \n",
    "    return p"
   ]
  },
  {
   "cell_type": "code",
   "execution_count": 16,
   "metadata": {},
   "outputs": [
    {
     "data": {
      "text/html": [
       "<div>\n",
       "<style scoped>\n",
       "    .dataframe tbody tr th:only-of-type {\n",
       "        vertical-align: middle;\n",
       "    }\n",
       "\n",
       "    .dataframe tbody tr th {\n",
       "        vertical-align: top;\n",
       "    }\n",
       "\n",
       "    .dataframe thead th {\n",
       "        text-align: right;\n",
       "    }\n",
       "</style>\n",
       "<table border=\"1\" class=\"dataframe\">\n",
       "  <thead>\n",
       "    <tr style=\"text-align: right;\">\n",
       "      <th></th>\n",
       "      <th>thershholds</th>\n",
       "      <th>counts</th>\n",
       "      <th>proba</th>\n",
       "    </tr>\n",
       "  </thead>\n",
       "  <tbody>\n",
       "    <tr>\n",
       "      <th>0</th>\n",
       "      <td>0.0</td>\n",
       "      <td>1821</td>\n",
       "      <td>0.029105</td>\n",
       "    </tr>\n",
       "    <tr>\n",
       "      <th>1</th>\n",
       "      <td>0.1</td>\n",
       "      <td>672</td>\n",
       "      <td>0.020833</td>\n",
       "    </tr>\n",
       "    <tr>\n",
       "      <th>2</th>\n",
       "      <td>0.2</td>\n",
       "      <td>253</td>\n",
       "      <td>0.059289</td>\n",
       "    </tr>\n",
       "    <tr>\n",
       "      <th>3</th>\n",
       "      <td>0.3</td>\n",
       "      <td>110</td>\n",
       "      <td>0.145455</td>\n",
       "    </tr>\n",
       "    <tr>\n",
       "      <th>4</th>\n",
       "      <td>0.9</td>\n",
       "      <td>96</td>\n",
       "      <td>1.000000</td>\n",
       "    </tr>\n",
       "    <tr>\n",
       "      <th>5</th>\n",
       "      <td>1.0</td>\n",
       "      <td>82</td>\n",
       "      <td>0.975610</td>\n",
       "    </tr>\n",
       "    <tr>\n",
       "      <th>6</th>\n",
       "      <td>0.8</td>\n",
       "      <td>66</td>\n",
       "      <td>0.893939</td>\n",
       "    </tr>\n",
       "    <tr>\n",
       "      <th>7</th>\n",
       "      <td>0.4</td>\n",
       "      <td>64</td>\n",
       "      <td>0.281250</td>\n",
       "    </tr>\n",
       "    <tr>\n",
       "      <th>8</th>\n",
       "      <td>0.7</td>\n",
       "      <td>63</td>\n",
       "      <td>0.841270</td>\n",
       "    </tr>\n",
       "    <tr>\n",
       "      <th>9</th>\n",
       "      <td>0.5</td>\n",
       "      <td>58</td>\n",
       "      <td>0.689655</td>\n",
       "    </tr>\n",
       "    <tr>\n",
       "      <th>10</th>\n",
       "      <td>0.6</td>\n",
       "      <td>48</td>\n",
       "      <td>0.812500</td>\n",
       "    </tr>\n",
       "  </tbody>\n",
       "</table>\n",
       "</div>"
      ],
      "text/plain": [
       "    thershholds  counts     proba\n",
       "0           0.0    1821  0.029105\n",
       "1           0.1     672  0.020833\n",
       "2           0.2     253  0.059289\n",
       "3           0.3     110  0.145455\n",
       "4           0.9      96  1.000000\n",
       "5           1.0      82  0.975610\n",
       "6           0.8      66  0.893939\n",
       "7           0.4      64  0.281250\n",
       "8           0.7      63  0.841270\n",
       "9           0.5      58  0.689655\n",
       "10          0.6      48  0.812500"
      ]
     },
     "execution_count": 16,
     "metadata": {},
     "output_type": "execute_result"
    }
   ],
   "source": [
    "#计算每个类别下的数量以及流失的平均概率\n",
    "pred_prob=get_predict_proba(x_train,y_train,rfc,n_estimators=10)\n",
    "pred_prob_sel=pd.Series(pred_prob[:,1])\n",
    "# pred_prob_sel[pred_prob_sel>0.5].value_counts()\n",
    "counts=pd.value_counts(pred_prob_sel)\n",
    "# pred_prob_sel[pred_prob_sel>0.5]\n",
    "\n",
    "is_churn=y_train==1\n",
    "true_pred={}\n",
    "for ind in counts.index:\n",
    "    true_pred[ind]=np.mean(is_churn[pred_prob_sel==ind])\n",
    "    true_pred=pd.Series(true_pred)\n",
    "\n",
    "data=pd.concat([counts,true_pred],axis=1).reset_index()\n",
    "data.columns=['thershholds','counts','proba']\n",
    "data\n",
    "# print(is_churn[pred_prob_sel==ind],len(is_churn[pred_prob_sel==ind]))"
   ]
  },
  {
   "cell_type": "markdown",
   "metadata": {},
   "source": [
    "以下部分为将原数据进行了过采样方法SMOTE进行处理后进行的分析，结果发现经过过采样后其accuracy score和recall score均大幅提升(客户流失最关心的指标recall score从0.70提升到0.93,查准率precison score 也从0.93提升至0.97)"
   ]
  },
  {
   "cell_type": "code",
   "execution_count": 17,
   "metadata": {},
   "outputs": [
    {
     "name": "stdout",
     "output_type": "stream",
     "text": [
      "After over_sampleing: 5700\n",
      "number of label=1: 2850\n",
      "number of label=0: 2850\n"
     ]
    }
   ],
   "source": [
    "from imblearn.over_sampling import SMOTE\n",
    "over_sampler=SMOTE()\n",
    "x_train,y_train=over_sampler.fit_sample(x_train,y_train)\n",
    "x_train=scaler.fit_transform(x_train)\n",
    "# print(x_train,x_train.shape)\n",
    "print('After over_sampleing:',len(y_train))\n",
    "#查看标签值分布\n",
    "print('number of label=1:',len(y_train[y_train==1]))\n",
    "print('number of label=0:',len(y_train[y_train==0]))"
   ]
  },
  {
   "cell_type": "code",
   "execution_count": 18,
   "metadata": {},
   "outputs": [
    {
     "data": {
      "text/plain": [
       "<matplotlib.axes._subplots.AxesSubplot at 0x2c07d3e1128>"
      ]
     },
     "execution_count": 18,
     "metadata": {},
     "output_type": "execute_result"
    },
    {
     "data": {
      "image/png": "[encoded data removed]",
      "text/plain": [
       "<Figure size 432x288 with 1 Axes>"
      ]
     },
     "metadata": {
      "needs_background": "light"
     },
     "output_type": "display_data"
    }
   ],
   "source": [
    "y_train=pd.Series(y_train)\n",
    "y_train.value_counts().plot(kind='bar')"
   ]
  },
  {
   "cell_type": "code",
   "execution_count": 19,
   "metadata": {},
   "outputs": [
    {
     "name": "stdout",
     "output_type": "stream",
     "text": [
      "recall score of randomforest is:0.936\n",
      "recall score of logisticRegression is:0.773\n",
      "recall score of knn is:0.990\n"
     ]
    }
   ],
   "source": [
    "from sklearn.metrics import recall_score\n",
    "print('recall score of randomforest is:%.3f'%recall_score(y_train,get_predict(x_train,y_train,rfc)))\n",
    "print('recall score of logisticRegression is:%.3f'%recall_score(y_train,get_predict(x_train,y_train,lr)))  \n",
    "print('recall score of knn is:%.3f'%recall_score(y_train,get_predict(x_train,y_train,knn)))  "
   ]
  },
  {
   "cell_type": "code",
   "execution_count": 20,
   "metadata": {},
   "outputs": [
    {
     "name": "stdout",
     "output_type": "stream",
     "text": [
      "precision score of randomforest is:0.974\n",
      "precision score of logisticRegression is:0.771\n",
      "precision score of knn is:0.851\n"
     ]
    }
   ],
   "source": [
    "print('precision score of randomforest is:%.3f'%precision_score(y_train,get_predict(x_train,y_train,rfc),average='binary'))\n",
    "print('precision score of logisticRegression is:%.3f'%precision_score(y_train,get_predict(x_train,y_train,lr),average='binary'))  \n",
    "print('precision score of knn is:%.3f'%precision_score(y_train,get_predict(x_train,y_train,knn),average='binary')) "
   ]
  },
  {
   "cell_type": "code",
   "execution_count": null,
   "metadata": {},
   "outputs": [],
   "source": []
  }
 ],
 "metadata": {
  "kernelspec": {
   "display_name": "Python 3",
   "language": "python",
   "name": "python3"
  },
  "language_info": {
   "codemirror_mode": {
    "name": "ipython",
    "version": 3
   },
   "file_extension": ".py",
   "mimetype": "text/x-python",
   "name": "python",
   "nbconvert_exporter": "python",
   "pygments_lexer": "ipython3",
   "version": "3.7.1"
  }
 },
 "nbformat": 4,
 "nbformat_minor": 2
}
